{
 "cells": [
  {
   "cell_type": "code",
   "execution_count": 2,
   "id": "5261a428",
   "metadata": {},
   "outputs": [],
   "source": [
    "library(rms)\n",
    "library(readxl)\n",
    "library(Hmisc)\n",
    "library(regplot)\n",
    "library(DynNom)"
   ]
  },
  {
   "cell_type": "code",
   "execution_count": 5,
   "id": "cff02ee7",
   "metadata": {},
   "outputs": [
    {
     "name": "stderr",
     "output_type": "stream",
     "text": [
      "Warning message in Design(data, formula = formula, specials = \"strat\"):\n",
      "\"Variable HR has levels Negative Positive which do not match levels given to datadist ( 0 1 ). datadist values ignored.\"\n",
      "Warning message in Design(data, formula = formula, specials = \"strat\"):\n",
      "\"Variable HER2 has levels Negative Positive which do not match levels given to datadist ( 0 1 ). datadist values ignored.\"\n",
      "Warning message in text.default(xl, y, points.label, adj = 0, cex = cex.var):\n",
      "\"font family not found in Windows font database\"\n",
      "Warning message in axis(..., cex.axis = cex):\n",
      "\"font family not found in Windows font database\"\n",
      "Warning message in strwidth(\" \", units = units, cex = cex):\n",
      "\"font family not found in Windows font database\"\n",
      "Warning message in axis(..., cex.axis = cex):\n",
      "\"font family not found in Windows font database\"\n",
      "Warning message in strwidth(\" \", units = units, cex = cex):\n",
      "\"font family not found in Windows font database\"\n",
      "Warning message in axis(..., cex.axis = cex):\n",
      "\"font family not found in Windows font database\"\n",
      "Warning message in strwidth(\" \", units = units, cex = cex):\n",
      "\"font family not found in Windows font database\"\n",
      "Warning message in axis(..., cex.axis = cex):\n",
      "\"font family not found in Windows font database\"\n",
      "Warning message in text.default(xl, y, total.points.label, adj = 0, cex = cex.var):\n",
      "\"font family not found in Windows font database\"\n",
      "Warning message in axis(..., cex.axis = cex):\n",
      "\"font family not found in Windows font database\"\n",
      "Warning message in text.default(xl, y, funlabel[i], adj = 0, cex = cex.var):\n",
      "\"font family not found in Windows font database\"\n",
      "Warning message in axis(sides[jj], at = scaled[jj], labels = fat[jj], pos = y, cex.axis = cex.axis, :\n",
      "\"font family not found in Windows font database\"\n"
     ]
    },
    {
     "data": {
      "text/html": [
       "<strong>null device:</strong> 1"
      ],
      "text/latex": [
       "\\textbf{null device:} 1"
      ],
      "text/markdown": [
       "**null device:** 1"
      ],
      "text/plain": [
       "null device \n",
       "          1 "
      ]
     },
     "metadata": {},
     "output_type": "display_data"
    },
    {
     "data": {
      "text/plain": [
       "Logistic Regression Model\n",
       "\n",
       "lrm(formula = PCR ~ HR + HER2 + Global_FD, data = Affairs)\n",
       "\n",
       "                       Model Likelihood      Discrimination    Rank Discrim.    \n",
       "                             Ratio Test             Indexes          Indexes    \n",
       "Obs           435    LR chi2     139.55      R2       0.402    C       0.844    \n",
       " 0            321    d.f.             3      R2(3,435)0.269    Dxy     0.688    \n",
       " 1            114    Pr(> chi2) <0.0001    R2(3,252.4)0.418    gamma   0.688    \n",
       "max |deriv| 5e-10                            Brier    0.133    tau-a   0.267    \n",
       "\n",
       "              Coef    S.E.   Wald Z Pr(>|Z|)\n",
       "Intercept      6.7152 1.1227  5.98  <0.0001 \n",
       "HR=Positive   -1.5462 0.2661 -5.81  <0.0001 \n",
       "HER2=Positive  1.1946 0.2652  4.50  <0.0001 \n",
       "Global_FD     -3.9498 0.5864 -6.74  <0.0001 \n"
      ]
     },
     "metadata": {},
     "output_type": "display_data"
    },
    {
     "data": {
      "image/png": "[encoded data removed]",
      "text/plain": [
       "plot without title"
      ]
     },
     "metadata": {
      "image/png": {
       "height": 420,
       "width": 420
      }
     },
     "output_type": "display_data"
    }
   ],
   "source": [
    "Affairs <- read.csv(\"train.csv\")\n",
    "ddist <- datadist(Affairs)\n",
    "options(datadist='ddist')\n",
    "\n",
    "Affairs$HR <- factor(Affairs$HR, levels=c(0,1), labels=c(\"Negative\",\"Positive\"))\n",
    "Affairs$HER2 <- factor(Affairs$HER2, levels=c(0,1), labels=c(\"Negative\",\"Positive\"))\n",
    "# 设置变量的名称\n",
    "label(Affairs$HR) <- \"HR status\"\n",
    "label(Affairs$HER2) <- \"HER2 status\"\n",
    "label(Affairs$Global_FD) <- \"Global FD\"\n",
    "# plot(nomogram)\n",
    "fit <- lrm(PCR ~ HR + HER2 + Global_FD, \n",
    "           data=Affairs) \n",
    "ddist <- datadist(Affairs); \n",
    "options(datadist='ddist')\n",
    "par(family=\"Times\")     \n",
    "nomogram <- nomogram(fit, fun = function(x)1/(1+exp(-x)),  # 逻辑回归计算公式\n",
    "                     fun.at = c(0.01, seq(0.1, 0.9, by = 0.2),0.9),\n",
    "#                      fun.at = c(0.1, seq(0.1, 0.9, by = 0.1),0.99),                     \n",
    "                     funlabel = \"pCR probability\",lp = F)                  \n",
    "png(filename=\"Nomogram-pCR.png\", width=5, height=5, units=\"in\", res=1000)\n",
    "                  \n",
    "# 绘制列线图\n",
    "plot(nomogram)\n",
    "dev.off()\n",
    "     \n",
    "plot(nomogram)\n",
    "fit"
   ]
  },
  {
   "cell_type": "code",
   "execution_count": null,
   "id": "1cbbc287",
   "metadata": {},
   "outputs": [],
   "source": []
  },
  {
   "cell_type": "code",
   "execution_count": null,
   "id": "ed59a386",
   "metadata": {},
   "outputs": [],
   "source": []
  },
  {
   "cell_type": "code",
   "execution_count": null,
   "id": "f5537133",
   "metadata": {},
   "outputs": [],
   "source": []
  },
  {
   "cell_type": "code",
   "execution_count": null,
   "id": "b6ac51b6",
   "metadata": {},
   "outputs": [],
   "source": []
  },
  {
   "cell_type": "code",
   "execution_count": null,
   "id": "d52f46f0",
   "metadata": {},
   "outputs": [],
   "source": []
  }
 ],
 "metadata": {
  "kernelspec": {
   "display_name": "R 4.3.1",
   "language": "R",
   "name": "ir431"
  },
  "language_info": {
   "codemirror_mode": "r",
   "file_extension": ".r",
   "mimetype": "text/x-r-source",
   "name": "R",
   "pygments_lexer": "r",
   "version": "4.3.1"
  }
 },
 "nbformat": 4,
 "nbformat_minor": 5
}
